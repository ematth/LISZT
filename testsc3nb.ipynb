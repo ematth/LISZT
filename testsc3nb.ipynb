{
 "cells": [
  {
   "cell_type": "code",
   "execution_count": 1,
   "metadata": {},
   "outputs": [],
   "source": [
    "import sc3nb as scn\n",
    "import time, numpy as np"
   ]
  },
  {
   "cell_type": "code",
   "execution_count": 2,
   "metadata": {},
   "outputs": [
    {
     "data": {
      "application/javascript": "if (typeof Jupyter !== 'undefined') {\n                        Jupyter.keyboard_manager.command_shortcuts.add_shortcut(\n                        'cmd-.', {\n                        help : 'Free all nodes on SC server',\n                        help_index : 'zz',\n                        handler : function (event) {\n                            IPython.notebook.kernel.execute(\n                                \"import sc3nb; sc3nb.SC.get_default().server.free_all(root=True)\"\n                            )\n                            return true;}\n                        });\n                    }",
      "text/plain": [
       "<IPython.core.display.Javascript object>"
      ]
     },
     "metadata": {},
     "output_type": "display_data"
    },
    {
     "name": "stdout",
     "output_type": "stream",
     "text": [
      "Starting sclang process... [sclang | start reading ]\n",
      "Done.\n",
      "Registering OSC /return callback in sclang... Done.\n",
      "Loading default sc3nb SynthDefs... Done.\n",
      "Booting SuperCollider Server... [scsynth | start reading ]\n",
      "[scsynth]  Number of Devices: 9\n",
      "[scsynth]     0 : \"Evan’s iPhone Micropho\"\n",
      "[scsynth]     1 : \"External Headphones\"\n",
      "[scsynth]     2 : \"MacBook Pro Microphone\"\n",
      "[scsynth]     3 : \"MacBook Pro Speakers\"\n",
      "[scsynth]     4 : \"Microsoft Teams Audio\"\n",
      "[scsynth]     5 : \"Solstice Desktop Speakers\"\n",
      "[scsynth]     6 : \"ZoomAudioD\"\n",
      "[scsynth]     7 : \"Aggregate Device\"\n",
      "[scsynth]     8 : \"Aggregate Device\"\n",
      "[scsynth]  \n",
      "[scsynth]  \"MacBook Pro Microphone\" Input Device\n",
      "[scsynth]     Streams: 1\n",
      "[scsynth]        0  channels 1\n",
      "[scsynth]  \n",
      "[scsynth]  \"External Headphones\" Output Device\n",
      "[scsynth]     Streams: 1\n",
      "[scsynth]        0  channels 2\n",
      "[scsynth]  \n",
      "[scsynth]  SC_AudioDriver: sample rate = 44100.000000, driver's block size = 512\n",
      "[scsynth]  SuperCollider 3 server ready.\n",
      "Done.\n"
     ]
    }
   ],
   "source": [
    "sc = scn.startup(start_server=False)\n",
    "sc.lang.cmds(\n",
    "    r\"\"\"\n",
    "        \"sc3nb - Registering OSC /return callback\".postln;\n",
    "        // NetAddr.useDoubles = true;\n",
    "        r = r ? ();\n",
    "        r.callback = { arg code, ip, port;\n",
    "            var result = code.interpret;\n",
    "            var addr = NetAddr.new(ip, port);\n",
    "            var prependSize = { arg elem;\n",
    "                if (elem.class == Array){\n",
    "                    elem = [elem.size] ++ elem.collect(prependSize);\n",
    "                }{\n",
    "                    elem;\n",
    "                };\n",
    "            };\n",
    "            var msgContent = prependSize.value(result);\n",
    "            addr.sendMsg(^replyAddress, msgContent);\n",
    "            result;  // result should be returned\n",
    "        };\"\"\",\n",
    "    pyvars={\"replyAddress\": \"/return\"},\n",
    ")\n",
    "sc.start_server()"
   ]
  },
  {
   "cell_type": "code",
   "execution_count": 20,
   "metadata": {},
   "outputs": [
    {
     "name": "stdout",
     "output_type": "stream",
     "text": [
      "-> a Routine\n"
     ]
    },
    {
     "name": "stdout",
     "output_type": "stream",
     "text": [
      "[sclang | reached EOF ]\n",
      "[scsynth]  /notify : already registered\n",
      "[scsynth | reached EOF ]\n"
     ]
    }
   ],
   "source": [
    "sc.lang.cmd(r\"\"\"\n",
    "Routine({\n",
    "    x = 5.collect{ |i|\n",
    "        0.2.wait;\n",
    "        Synth.new(\\default, [\\freq, 50+(50*i)]);\n",
    "    };\n",
    "    1.wait;\n",
    "    x.do{|e| \n",
    "        e.release;\n",
    "        0.1.wait;};\n",
    "}).play;\n",
    "\"\"\")"
   ]
  },
  {
   "cell_type": "code",
   "execution_count": 19,
   "metadata": {},
   "outputs": [],
   "source": [
    "sc.server.volume = 0"
   ]
  },
  {
   "cell_type": "code",
   "execution_count": 15,
   "metadata": {},
   "outputs": [],
   "source": [
    "sc.server.volume = scn.amp_to_db(1.0)"
   ]
  },
  {
   "cell_type": "code",
   "execution_count": null,
   "metadata": {},
   "outputs": [],
   "source": []
  }
 ],
 "metadata": {
  "kernelspec": {
   "display_name": "mus499c",
   "language": "python",
   "name": "python3"
  },
  "language_info": {
   "codemirror_mode": {
    "name": "ipython",
    "version": 3
   },
   "file_extension": ".py",
   "mimetype": "text/x-python",
   "name": "python",
   "nbconvert_exporter": "python",
   "pygments_lexer": "ipython3",
   "version": "3.12.6"
  }
 },
 "nbformat": 4,
 "nbformat_minor": 2
}
